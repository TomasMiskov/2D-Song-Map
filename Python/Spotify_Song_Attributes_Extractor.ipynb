{
 "cells": [
  {
   "cell_type": "code",
   "execution_count": 70,
   "id": "4444b72f",
   "metadata": {},
   "outputs": [],
   "source": [
    "import spotipy\n",
    "from spotipy.oauth2 import SpotifyClientCredentials\n",
    "\n",
    "import pandas as pd\n",
    "import numpy as np"
   ]
  },
  {
   "cell_type": "code",
   "execution_count": 71,
   "id": "515f52f6",
   "metadata": {},
   "outputs": [],
   "source": [
    "cid = \"aa185ee0f22047cfab9fcae27d390b74\"\n",
    "secret = \"dd0f61975fdd4452bb3aa56633d93d71\"\n",
    "\n",
    "client_credentials_manager = SpotifyClientCredentials(client_id = cid, client_secret = secret)\n",
    "sp = spotipy.Spotify(client_credentials_manager = client_credentials_manager)"
   ]
  },
  {
   "cell_type": "code",
   "execution_count": 72,
   "id": "baf57e28",
   "metadata": {},
   "outputs": [],
   "source": [
    "playlist_link = \"https://open.spotify.com/playlist/37i9dQZEVXbK4BFAukDzj3?si=2ba85a48be9c4a15\" #Top 50 NL 15/02/2022\n",
    "playlist = sp.playlist_tracks(playlist_link)\n",
    "\n",
    "tracks = playlist[\"items\"]\n",
    "track_features = []\n",
    "\n",
    "for t in tracks:\n",
    "    track_uri = t[\"track\"][\"uri\"]\n",
    "    current_track_features = sp.audio_features(track_uri)[0]\n",
    "    current_track_features[\"name\"] = t[\"track\"][\"name\"]\n",
    "    current_track_features[\"artists\"] = [artist[\"name\"] for artist in t[\"track\"][\"artists\"]]\n",
    "    current_track_features[\"popularity\"] = t[\"track\"][\"popularity\"]\n",
    "    current_track_features[\"explicit\"] = t[\"track\"][\"explicit\"]\n",
    "    current_track_features[\"album_type\"] = t[\"track\"][\"album\"][\"album_type\"]\n",
    "    current_track_features[\"release_date\"] = t[\"track\"][\"album\"][\"release_date\"]\n",
    "    \n",
    "    artist_genres = []\n",
    "    for artist in t[\"track\"][\"artists\"]:\n",
    "        genres = sp.artist(artist[\"external_urls\"][\"spotify\"])[\"genres\"]     # extract all genres of an artist\n",
    "        artist_genres.extend(genres)                                         # combine genres of all artists\n",
    "    artist_genres = set(artist_genres)                                       # save each genre once\n",
    "    current_track_features[\"artist_genres\"] = list(artist_genres)\n",
    "    \n",
    "    track_features.append(current_track_features)\n",
    "    \n",
    "top50NL = pd.DataFrame(track_features)                                                  # make a data frame to export as csv\n",
    "top50NL = top50NL.drop(columns = [\"type\", \"id\", \"uri\", \"track_href\", \"analysis_url\"])   # drop irelevant columns\n",
    "top50NL.insert(11, 'time_signature', top50NL.pop('time_signature'))                     # make first 12 columns the features"
   ]
  },
  {
   "cell_type": "code",
   "execution_count": 73,
   "id": "58ce258a",
   "metadata": {},
   "outputs": [],
   "source": [
    "def genre_dummy_creator(sGenre, lSongGenres):\n",
    "    dummySeries = []\n",
    "    for songGenres in lSongGenres:\n",
    "        count = 0\n",
    "        for genre in songGenres:\n",
    "            if sGenre in genre:\n",
    "                count += 1\n",
    "        if count > 0:\n",
    "            dummySeries.append(1)\n",
    "        else:\n",
    "            dummySeries.append(0)\n",
    "    return(dummySeries)\n",
    "\n",
    "for genre in [\"dutch\", \"rap\", \"pop\", \"rock\", \"r&b\", \"hip hop\", \"dance\"]:\n",
    "    top50NL[genre] = genre_dummy_creator(genre, top50NL[\"artist_genres\"])  "
   ]
  },
  {
   "cell_type": "code",
   "execution_count": 77,
   "id": "639b5558",
   "metadata": {},
   "outputs": [
    {
     "data": {
      "text/plain": [
       "27"
      ]
     },
     "execution_count": 77,
     "metadata": {},
     "output_type": "execute_result"
    }
   ],
   "source": [
    "top50NL.to_csv(r\"C:\\Users\\misko\\OneDrive\\Desktop\\BDS\\Block 3\\Unsupervised Machine Learning\\Week 7\\top50NL.csv\")\n",
    "len(top50NL.columns)"
   ]
  }
 ],
 "metadata": {
  "kernelspec": {
   "display_name": "Python 3",
   "language": "python",
   "name": "python3"
  },
  "language_info": {
   "codemirror_mode": {
    "name": "ipython",
    "version": 3
   },
   "file_extension": ".py",
   "mimetype": "text/x-python",
   "name": "python",
   "nbconvert_exporter": "python",
   "pygments_lexer": "ipython3",
   "version": "3.8.3"
  }
 },
 "nbformat": 4,
 "nbformat_minor": 5
}
